{
 "cells": [
  {
   "cell_type": "markdown",
   "metadata": {},
   "source": [
    "## Cui2Vec Embeddings\n",
    "\n",
    "Exploring embeddings from Choi et al. https://github.com/clinicalml/embeddings\n"
   ]
  },
  {
   "cell_type": "code",
   "execution_count": 1,
   "metadata": {},
   "outputs": [],
   "source": [
    "import pandas as pd\n",
    "import numpy as np\n",
    "from gensim.models import KeyedVectors"
   ]
  },
  {
   "cell_type": "markdown",
   "metadata": {},
   "source": [
    "## Load Part B - HCPCS Codes"
   ]
  },
  {
   "cell_type": "code",
   "execution_count": 2,
   "metadata": {},
   "outputs": [
    {
     "name": "stdout",
     "output_type": "stream",
     "text": [
      "Loaded 7520 unique hcpcs codes\n"
     ]
    }
   ],
   "source": [
    "partb_file = '/Users/jujohnson/cms-data/raw/Medicare_PUF_PartB_2012to2017.csv.gz'\n",
    "partb_cols = ['hcpcs_code', 'hcpcs_description']\n",
    "hcpcs_df = pd.read_csv(partb_file, usecols=partb_cols)\n",
    "unique_hcpcs = hcpcs_df['hcpcs_code'].unique()\n",
    "print(f'Loaded {len(unique_hcpcs)} unique hcpcs codes')"
   ]
  },
  {
   "cell_type": "markdown",
   "metadata": {},
   "source": [
    "## Load Choi's Embeddingns"
   ]
  },
  {
   "cell_type": "code",
   "execution_count": 17,
   "metadata": {},
   "outputs": [],
   "source": [
    "embedding_file = '/Users/jujohnson/Desktop/claims_codes_hs_300.txt'\n",
    "cui2vecs = {}\n",
    "\n",
    "with open(embedding_file, 'r') as fin:\n",
    "  lines = fin.readlines()\n",
    "\n",
    "lines = lines[1:]\n",
    "\n",
    "for line in lines:\n",
    "  [code, *embedding] = line.strip().split(' ')\n",
    "  embedding = [float(x) for x in embedding]\n",
    "  cui2vecs[code] = embedding"
   ]
  },
  {
   "cell_type": "markdown",
   "metadata": {},
   "source": [
    "## Create Gensim Keyed Vector"
   ]
  },
  {
   "cell_type": "code",
   "execution_count": 23,
   "metadata": {},
   "outputs": [],
   "source": [
    "hcpcsvecs = {}\n",
    "\n",
    "count = 0\n",
    "for hcpcs in unique_hcpcs:\n",
    "  emb = cui2vecs.get(hcpcs)\n",
    "  if emb != None:\n",
    "    count += 1\n",
    "  hcpcsvecs[hcpcs] = cui2vecs.get(hcpcs)"
   ]
  },
  {
   "cell_type": "code",
   "execution_count": 25,
   "metadata": {},
   "outputs": [
    {
     "data": {
      "text/plain": [
       "array(['76830', '72170', '78306', '72128', '72192', '76775', '74000',\n",
       "       '72050', '78582', '72148'], dtype=object)"
      ]
     },
     "execution_count": 25,
     "metadata": {},
     "output_type": "execute_result"
    }
   ],
   "source": [
    "unique_hcpcs[:10]"
   ]
  },
  {
   "cell_type": "code",
   "execution_count": null,
   "metadata": {},
   "outputs": [],
   "source": []
  }
 ],
 "metadata": {
  "kernelspec": {
   "display_name": "Python 3",
   "language": "python",
   "name": "python3"
  },
  "language_info": {
   "codemirror_mode": {
    "name": "ipython",
    "version": 3
   },
   "file_extension": ".py",
   "mimetype": "text/x-python",
   "name": "python",
   "nbconvert_exporter": "python",
   "pygments_lexer": "ipython3",
   "version": "3.6.9"
  }
 },
 "nbformat": 4,
 "nbformat_minor": 4
}
