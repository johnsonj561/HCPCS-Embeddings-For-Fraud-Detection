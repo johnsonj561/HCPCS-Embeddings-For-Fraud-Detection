{
 "cells": [
  {
   "cell_type": "markdown",
   "metadata": {},
   "source": [
    "## Cui2Vec Embeddings\n",
    "\n",
    "This notebook prepares cui2vec embeddings for Medicare fraud prediction.\n",
    "\n",
    "Original paper: https://psb.stanford.edu/psb-online/proceedings/psb20/Beam.pdf\n",
    "\n",
    "Public embeddings: http://cui2vec.dbmi.hms.harvard.edu/\n",
    "\n",
    "Embeddings for over 108,000 medical concepts. These embeddings were created using insurance claims for 60 million americans, 1.7 million full-text PubMed articles, and clinical notes from 20 million patients at Stanford."
   ]
  },
  {
   "cell_type": "code",
   "execution_count": 1,
   "metadata": {},
   "outputs": [],
   "source": [
    "import pandas as pd\n",
    "import numpy as np\n",
    "from gensim.models import KeyedVectors"
   ]
  },
  {
   "cell_type": "markdown",
   "metadata": {},
   "source": [
    "## Load Part B - HCPCS Codes"
   ]
  },
  {
   "cell_type": "code",
   "execution_count": 4,
   "metadata": {},
   "outputs": [
    {
     "name": "stdout",
     "output_type": "stream",
     "text": [
      "Loaded 7520 unique hcpcs codes\n"
     ]
    }
   ],
   "source": [
    "partb_file = '/Users/jujohnson/cms-data/raw/Medicare_PUF_PartB_2012to2017.csv.gz'\n",
    "partb_cols = ['hcpcs_code', 'hcpcs_description']\n",
    "hcpcs_df = pd.read_csv(partb_file, usecols=partb_cols)\n",
    "unique_hcpcs = hcpcs_df['hcpcs_code'].unique()\n",
    "print(f'Loaded {len(unique_hcpcs)} unique hcpcs codes')"
   ]
  },
  {
   "cell_type": "markdown",
   "metadata": {},
   "source": [
    "## Convert HCPCS Codes to CUI Codes\n",
    "\n",
    "UMLS Provides a catalog of medical terms and respective CUI codes."
   ]
  },
  {
   "cell_type": "code",
   "execution_count": null,
   "metadata": {},
   "outputs": [],
   "source": []
  },
  {
   "cell_type": "code",
   "execution_count": 21,
   "metadata": {},
   "outputs": [
    {
     "data": {
      "text/plain": [
       "array([['G0438',\n",
       "        'Annual wellness visit; includes a personalized prevention plan of service (pps), initial visit']],\n",
       "      dtype=object)"
      ]
     },
     "execution_count": 21,
     "metadata": {},
     "output_type": "execute_result"
    }
   ],
   "source": [
    "hcpcs_df.loc[hcpcs_df['hcpcs_code']=='G0438'].head(1).values"
   ]
  },
  {
   "cell_type": "code",
   "execution_count": 25,
   "metadata": {},
   "outputs": [],
   "source": [
    "with open('unique-hcpcs.csv', 'w') as fout:\n",
    "  fout.write(','.join(unique_hcpcs))"
   ]
  },
  {
   "cell_type": "code",
   "execution_count": 20,
   "metadata": {},
   "outputs": [
    {
     "data": {
      "text/plain": [
       "'G0438'"
      ]
     },
     "execution_count": 20,
     "metadata": {},
     "output_type": "execute_result"
    }
   ],
   "source": [
    "unique_hcpcs[129]"
   ]
  },
  {
   "cell_type": "markdown",
   "metadata": {},
   "source": [
    "## Load Cui2Vec Embeddingns"
   ]
  },
  {
   "cell_type": "code",
   "execution_count": 33,
   "metadata": {},
   "outputs": [],
   "source": [
    "cui2vec_file = '/Users/jujohnson/Desktop/cui2vec_pretrained.csv'\n",
    "cui2vecs = {}\n",
    "\n",
    "with open(cui2vec_file, 'r') as fin:\n",
    "  lines = fin.readlines()\n",
    "\n",
    "lines = lines[1:]\n",
    "\n",
    "for line in lines:\n",
    "  [code, *embedding] = line.strip().split(',')\n",
    "  embedding = [float(x) for x in embedding]\n",
    "  cui2vecs[code] = embedding"
   ]
  },
  {
   "cell_type": "markdown",
   "metadata": {},
   "source": [
    "## Create HCPCS-Embedding Mapping\n",
    "\n",
    "Before we can map HCPCS -> CUI, we need access to the UMLS."
   ]
  },
  {
   "cell_type": "code",
   "execution_count": 34,
   "metadata": {},
   "outputs": [
    {
     "data": {
      "text/plain": [
       "109053"
      ]
     },
     "execution_count": 34,
     "metadata": {},
     "output_type": "execute_result"
    }
   ],
   "source": [
    "len(lines)"
   ]
  },
  {
   "cell_type": "code",
   "execution_count": 36,
   "metadata": {},
   "outputs": [],
   "source": [
    "exists = 0\n",
    "\n",
    "for hcpcs in unique_hcpcs:\n",
    "  if cui2vecs.get(hcpcs) != None:\n",
    "    exists += 1"
   ]
  },
  {
   "cell_type": "code",
   "execution_count": 37,
   "metadata": {},
   "outputs": [
    {
     "data": {
      "text/plain": [
       "0"
      ]
     },
     "execution_count": 37,
     "metadata": {},
     "output_type": "execute_result"
    }
   ],
   "source": [
    "exists"
   ]
  },
  {
   "cell_type": "code",
   "execution_count": null,
   "metadata": {},
   "outputs": [],
   "source": []
  }
 ],
 "metadata": {
  "kernelspec": {
   "display_name": "Python 3",
   "language": "python",
   "name": "python3"
  },
  "language_info": {
   "codemirror_mode": {
    "name": "ipython",
    "version": 3
   },
   "file_extension": ".py",
   "mimetype": "text/x-python",
   "name": "python",
   "nbconvert_exporter": "python",
   "pygments_lexer": "ipython3",
   "version": "3.6.9"
  }
 },
 "nbformat": 4,
 "nbformat_minor": 4
}
