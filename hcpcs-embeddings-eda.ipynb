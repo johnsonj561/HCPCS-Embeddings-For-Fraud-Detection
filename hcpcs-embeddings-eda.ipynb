{
 "cells": [
  {
   "cell_type": "markdown",
   "metadata": {},
   "source": [
    "## HCPCS Embeddings\n",
    "\n",
    "We are resusing HCPCS embeddings from [Learning Low-Dimensional Representations of Medical Concepts](http://people.csail.mit.edu/dsontag/papers/ChoiChiuSontag_AMIA_CRI16.pdf).\n",
    "\n",
    "The claims_codes_hs_300.txt.gz codes were taken from their [public repo](https://github.com/clinicalml/embeddings).\n",
    "\n",
    "In this notebook, we extract the HCPCS codes we are interested in and discard the rest."
   ]
  },
  {
   "cell_type": "code",
   "execution_count": 1,
   "metadata": {},
   "outputs": [],
   "source": [
    "import pandas as pd\n",
    "import numpy as np\n",
    "import math\n",
    "from scipy.sparse import save_npz, load_npz"
   ]
  },
  {
   "cell_type": "code",
   "execution_count": 94,
   "metadata": {},
   "outputs": [],
   "source": [
    "path = '/Users/jujohnson/Desktop/claims_codes_hs_300.txt'"
   ]
  },
  {
   "cell_type": "code",
   "execution_count": 96,
   "metadata": {},
   "outputs": [],
   "source": [
    "a = 'C_hello'"
   ]
  },
  {
   "cell_type": "code",
   "execution_count": 98,
   "metadata": {},
   "outputs": [],
   "source": [
    "import re"
   ]
  },
  {
   "cell_type": "code",
   "execution_count": 100,
   "metadata": {},
   "outputs": [
    {
     "name": "stdout",
     "output_type": "stream",
     "text": [
      "10000\n",
      "20000\n",
      "30000\n",
      "40000\n",
      "50000\n"
     ]
    }
   ],
   "source": [
    "hcpcs_embeddings = {}\n",
    "counter = 0\n",
    "\n",
    "with open(path, 'r') as fin:\n",
    "  lines = fin.readlines()\n",
    "  for line in lines:\n",
    "    line = line.strip()\n",
    "    split = line.split(' ')\n",
    "    hcpcs_code, embedding = split[0], split[1:]\n",
    "    hcpcs_code = re.sub(r'.*_', '', hcpcs_code)\n",
    "    hcpcs_embeddings[hcpcs_code] = embedding\n",
    "    counter += 1\n",
    "    if counter % 10000 == 0:\n",
    "      print(counter)"
   ]
  },
  {
   "cell_type": "markdown",
   "metadata": {},
   "source": [
    "## Do we have them all?"
   ]
  },
  {
   "cell_type": "code",
   "execution_count": 101,
   "metadata": {},
   "outputs": [],
   "source": [
    "hcpcs = np.load('hcpcs-unique.npy', allow_pickle=True)"
   ]
  },
  {
   "cell_type": "code",
   "execution_count": 102,
   "metadata": {},
   "outputs": [],
   "source": [
    "missing = []\n",
    "for hcpc in hcpcs:\n",
    "  if hcpcs_embeddings.get(hcpc) == None:\n",
    "    missing.append(hcpc)"
   ]
  },
  {
   "cell_type": "code",
   "execution_count": 103,
   "metadata": {},
   "outputs": [
    {
     "data": {
      "text/plain": [
       "11.832550192225545"
      ]
     },
     "execution_count": 103,
     "metadata": {},
     "output_type": "execute_result"
    }
   ],
   "source": [
    "len(missing) / len(hcpcs) * 100"
   ]
  },
  {
   "cell_type": "code",
   "execution_count": 60,
   "metadata": {},
   "outputs": [],
   "source": [
    "with open(path, 'r') as fin:\n",
    "  lines = fin.readlines()\n",
    "  for line in lines:\n",
    "    hcpcs_code = line.split(' ')[0]    \n",
    "    if '31626' in hcpcs_code:\n",
    "      print(line)"
   ]
  },
  {
   "cell_type": "code",
   "execution_count": null,
   "metadata": {},
   "outputs": [],
   "source": []
  }
 ],
 "metadata": {
  "kernelspec": {
   "display_name": "Python 3",
   "language": "python",
   "name": "python3"
  },
  "language_info": {
   "codemirror_mode": {
    "name": "ipython",
    "version": 3
   },
   "file_extension": ".py",
   "mimetype": "text/x-python",
   "name": "python",
   "nbconvert_exporter": "python",
   "pygments_lexer": "ipython3",
   "version": "3.6.9"
  }
 },
 "nbformat": 4,
 "nbformat_minor": 4
}
