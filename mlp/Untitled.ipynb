{
 "cells": [
  {
   "cell_type": "code",
   "execution_count": 2,
   "metadata": {},
   "outputs": [],
   "source": [
    "import pandas as pd"
   ]
  },
  {
   "cell_type": "code",
   "execution_count": 9,
   "metadata": {},
   "outputs": [
    {
     "name": "stdout",
     "output_type": "stream",
     "text": [
      "embedding:skipgram150-layers:64+64-learn_rate:0.001-batch_size:128-dropout_rate:0.5-bathcnorm:True\n",
      "embedding:skipgram150-layers:64+64-learn_rate:0.001-batch_size:128-dropout_rate:0.5-bathcnorm:True\n"
     ]
    }
   ],
   "source": [
    "with open('train-auc-results.csv', 'r') as fin:\n",
    "  train = fin.readlines()\n",
    "  \n",
    "train = train[1:]\n",
    "\n",
    "for line in train:\n",
    "  [key, *aucs] = line.split(',')\n",
    "  print(key)"
   ]
  },
  {
   "cell_type": "code",
   "execution_count": 6,
   "metadata": {},
   "outputs": [
    {
     "data": {
      "text/plain": [
       "['config,ep_0,ep_1,ep_2,ep_3,ep_4,ep_5,ep_6,ep_7,ep_8,ep_9,ep_10,ep_11,ep_12,ep_13,ep_14,ep_15,ep_16,ep_17,ep_18,ep_19,ep_20,ep_21,ep_22,ep_23,ep_24,ep_25,ep_26,ep_27,ep_28,ep_29,ep_30,ep_31,ep_32,ep_33,ep_34,ep_35,ep_36,ep_37,ep_38,ep_39,ep_40,ep_41,ep_42,ep_43,ep_44,ep_45,ep_46,ep_47,ep_48,ep_49,ep_50,ep_51,ep_52,ep_53,ep_54,ep_55,ep_56,ep_57,ep_58,ep_59,ep_60,ep_61,ep_62,ep_63,ep_64,ep_65,ep_66,ep_67,ep_68,ep_69,ep_70,ep_71,ep_72,ep_73,ep_74,ep_75,ep_76,ep_77,ep_78,ep_79,ep_80,ep_81,ep_82,ep_83,ep_84,ep_85,ep_86,ep_87,ep_88,ep_89,ep_90,ep_91,ep_92,ep_93,ep_94,ep_95,ep_96,ep_97,ep_98,ep_99\\n',\n",
       " 'embedding:skipgram150-layers:64+64-learn_rate:0.001-batch_size:128-dropout_rate:0.5-bathcnorm:True,0.7948368047460864,0.8007192204309493,0.8044257570509408,0.8034358911290362,0.8022965084116801,0.8069115918257526,0.8061219469131466,0.804657597132172,0.8081399805477871,0.8082297392221837,0.8091335553071176,0.8092021928902129,0.8084389715311778\\n',\n",
       " 'embedding:skipgram150-layers:64+64-learn_rate:0.001-batch_size:128-dropout_rate:0.5-bathcnorm:True,0.7923397940224209,0.8016509693887793,0.8051430208395846,0.8040192489405228,0.8075475722847147,0.8083183673687399,0.8085271129562185,0.8101383876272239,0.8109207881987757,0.8108350579780336,0.8104286994941191,0.8132275166993025,0.807023715278423,0.8124034979154795,0.813874935033948,0.8113592766084379,0.8102225936950544,0.8106178054827181,0.8132544218617074,0.8139979135042065,0.8118406029873454,0.8109316673955654\\n']"
      ]
     },
     "execution_count": 6,
     "metadata": {},
     "output_type": "execute_result"
    }
   ],
   "source": [
    "train"
   ]
  },
  {
   "cell_type": "code",
   "execution_count": null,
   "metadata": {},
   "outputs": [],
   "source": []
  }
 ],
 "metadata": {
  "kernelspec": {
   "display_name": "Python 3",
   "language": "python",
   "name": "python3"
  },
  "language_info": {
   "codemirror_mode": {
    "name": "ipython",
    "version": 3
   },
   "file_extension": ".py",
   "mimetype": "text/x-python",
   "name": "python",
   "nbconvert_exporter": "python",
   "pygments_lexer": "ipython3",
   "version": "3.6.9"
  }
 },
 "nbformat": 4,
 "nbformat_minor": 4
}
