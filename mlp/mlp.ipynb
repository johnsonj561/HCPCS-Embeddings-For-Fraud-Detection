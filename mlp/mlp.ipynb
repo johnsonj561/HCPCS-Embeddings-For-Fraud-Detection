{
 "cells": [
  {
   "cell_type": "code",
   "execution_count": 3,
   "metadata": {},
   "outputs": [],
   "source": [
    "import os\n",
    "import sys\n",
    "import pandas as pd\n",
    "import numpy as np\n",
    "from sklearn.model_selection import train_test_split\n",
    "from sklearn.preprocessing import MaxAbsScaler\n",
    "import datetime\n",
    "\n",
    "import tensorflow as tf\n",
    "K = tf.keras.backend\n",
    "EarlyStopping = tf.keras.callbacks.EarlyStopping\n",
    "ReduceLROnPlateau = tf.keras.callbacks.ReduceLROnPlateau\n",
    "TensorBoard = tf.keras.callbacks.TensorBoard\n",
    "\n",
    "proj_dir = os.environ['CMS_ROOT']\n",
    "sys.path.append(proj_dir)\n",
    "from utils.utils import model_summary_to_string, args_to_dict, write_dnn_perf_metrics\n",
    "from utils.logging import Logger\n",
    "from utils.keras_callbacks import KerasRocAucCallback\n",
    "from utils.data import load_data, get_embedded_data\n",
    "from utils.mlp import create_model"
   ]
  },
  {
   "cell_type": "code",
   "execution_count": 5,
   "metadata": {},
   "outputs": [],
   "source": [
    "############################################\n",
    "# Parse CLI Args & Create DNN Config\n",
    "############################################\n",
    "\n",
    "config = {}\n",
    "hidden_layers_markup = '128+64'\n",
    "config['hidden_layers'] = [64, 64]\n",
    "config['learn_rate'] = 1e-3\n",
    "config['batch_size'] = 128\n",
    "config['dropout_rate'] = 0.5\n",
    "config['batchnorm'] = True\n",
    "epochs = 25\n",
    "\n",
    "embedding_path=os.path.join(proj_dir, 'data', 'skipgram-e300-w5-i100.kv')\n",
    "embedding_type = 'skipgram150'\n",
    "drop_columns = ['state_code']\n",
    "\n",
    "sample_size = 200000"
   ]
  },
  {
   "cell_type": "code",
   "execution_count": 6,
   "metadata": {},
   "outputs": [],
   "source": [
    "############################################\n",
    "# Define I/O Paths\n",
    "############################################\n",
    "\n",
    "now = datetime.datetime.today()\n",
    "\n",
    "validation_auc_outputs = 'validation-auc-results.csv'\n",
    "train_auc_outputs = 'train-auc-results.csv'\n",
    "results_file = 'results.csv'\n",
    "\n",
    "config_value = f'embedding:{embedding_type}-layers:{hidden_layers_markup}-learn_rate:{config.get(\"learn_rate\")}'\n",
    "config_value += f'-batch_size:{config.get(\"batch_size\")}-dropout_rate:{config.get(\"dropout_rate\")}-bathcnorm:{config.get(\"batchnorm\")}'\n",
    "\n",
    "if not os.path.isfile(train_auc_outputs):\n",
    "    results_header = 'config,' + ','.join([f'ep_{i}' for i in range(epochs)])\n",
    "    output_files = [train_auc_outputs, validation_auc_outputs]\n",
    "    output_headers = [results_header,results_header]\n",
    "    for file, header in zip(output_files, output_headers):\n",
    "        with open(file, 'w') as fout:\n",
    "            fout.write(header + '\\n')\n",
    "\n",
    "def write_results(file, results):\n",
    "    with open(file, 'a') as fout:\n",
    "        fout.write(results + '\\n')\n"
   ]
  },
  {
   "cell_type": "code",
   "execution_count": 8,
   "metadata": {},
   "outputs": [],
   "source": [
    "############################################\n",
    "# Initialize Logger\n",
    "############################################\n",
    "ts = now.strftime(\"%m%d%y-%H%M%S\")\n",
    "tensorboard_dir = f'tensorboard/{ts}-{config_value}/'\n",
    "log_file = f'logs/{ts}-{config_value}.txt'\n",
    "logger = Logger(log_file)\n",
    "logger.log_time('Starting job')\n",
    "logger.log_time('Using ts: {ts}')\n",
    "logger.log_time(f'Outputs being written to {[validation_auc_outputs,train_auc_outputs]}')\n",
    "logger.write_to_file()"
   ]
  },
  {
   "cell_type": "code",
   "execution_count": null,
   "metadata": {},
   "outputs": [
    {
     "name": "stdout",
     "output_type": "stream",
     "text": [
      "Loading data from path /Users/jujohnson/cms-data/raw/Medicare_PUF_PartB_2012to2017.csv.gz\n"
     ]
    }
   ],
   "source": [
    "load_sampled_data(1000000).head()"
   ]
  },
  {
   "cell_type": "code",
   "execution_count": 8,
   "metadata": {},
   "outputs": [],
   "source": [
    "############################################\n",
    "# Train/Test Split & Normalize\n",
    "############################################\n",
    "\n",
    "x_train, x_test, y_train, y_test = train_test_split(x, y, test_size=0.2)\n",
    "y_train, y_test = np.array(y_train), np.array(y_test)\n",
    "\n",
    "scaler = MaxAbsScaler()\n",
    "x_train = scaler.fit_transform(x_train)\n",
    "x_test = scaler.transform(x_test)\n",
    "del x, y"
   ]
  },
  {
   "cell_type": "code",
   "execution_count": 9,
   "metadata": {},
   "outputs": [],
   "source": [
    "############################################\n",
    "# Setup Training Callbacks\n",
    "############################################\n",
    "\n",
    "validation_auc_callback = KerasRocAucCallback(x_test, y_test, True, logger)\n",
    "train_auc_callback = KerasRocAucCallback(x_train, y_train)\n",
    "early_stopping = EarlyStopping(monitor='val_auc', min_delta=0.001, patience=5, mode='max', restore_best_weights=True)\n",
    "tensorboard = TensorBoard(log_dir=f'{tensorboard_dir}', write_graph=False)\n",
    "callbacks = [validation_auc_callback, train_auc_callback, early_stopping, tensorboard]"
   ]
  },
  {
   "cell_type": "code",
   "execution_count": 12,
   "metadata": {},
   "outputs": [],
   "source": [
    "############################################\n",
    "# Build Model\n",
    "############################################\n",
    "input_dim = x_train.shape[1]\n",
    "\n",
    "K.clear_session()\n",
    "learn_rate = config.get('learn_rate', 1e-3)\n",
    "dropout_rate = config.get('dropout_rate')\n",
    "batchnorm = config.get('batchnorm', False)\n",
    "hidden_layers = config.get('hidden_layers', [32])\n",
    "activation = config.get('activation', 'relu')\n",
    "optimizer = config.get('optimizer', Adam)    \n",
    "gpu_count = config.get('gpus', 0)\n",
    "\n",
    "model = Sequential()\n",
    "\n",
    "for idx, width in enumerate(hidden_layers):\n",
    "    input_dim = input_dim if idx == 0 else None\n",
    "\n",
    "    # hidden layers\n",
    "    model.add(Dense(width, input_dim=input_dim))\n",
    "    if batchnorm:\n",
    "        model.add(BatchNormalization())\n",
    "    model.add(Activation(activation))\n",
    "    if dropout_rate != None:\n",
    "        model.add(Dropout(dropout_rate))\n",
    "\n",
    "# output layer\n",
    "model.add(Dense(1, activation='sigmoid'))\n",
    "\n",
    "# use gpus?\n",
    "if gpu_count > 1:\n",
    "    model = multi_gpu_model(model, gpu_count)\n",
    "\n",
    "model.compile(loss='binary_crossentropy', optimizer=optimizer(learn_rate))\n",
    "\n",
    "\n",
    "def write_model(model, path):\n",
    "    json = model.to_json()\n",
    "    with open(path, 'w') as out:\n",
    "        out.write(json)"
   ]
  },
  {
   "cell_type": "code",
   "execution_count": 13,
   "metadata": {},
   "outputs": [
    {
     "name": "stdout",
     "output_type": "stream",
     "text": [
      "Train on 160000 samples\n",
      "Epoch 1/25\n",
      "160000/160000 [==============================] - 24s 149us/sample - loss: 0.0162\n",
      "Epoch 2/25\n",
      "160000/160000 [==============================] - 23s 145us/sample - loss: 0.0063\n",
      "Epoch 3/25\n",
      "160000/160000 [==============================] - 31s 191us/sample - loss: 0.0060\n",
      "Epoch 4/25\n",
      "160000/160000 [==============================] - 30s 187us/sample - loss: 0.0059\n",
      "Epoch 5/25\n",
      "160000/160000 [==============================] - 27s 167us/sample - loss: 0.0054\n",
      "Epoch 6/25\n",
      "160000/160000 [==============================] - 23s 146us/sample - loss: 0.0051\n",
      "Epoch 7/25\n",
      "160000/160000 [==============================] - 25s 155us/sample - loss: 0.0051\n",
      "Epoch 8/25\n",
      "160000/160000 [==============================] - 24s 151us/sample - loss: 0.0048\n",
      "Epoch 9/25\n",
      "160000/160000 [==============================] - 24s 150us/sample - loss: 0.0047\n",
      "Epoch 10/25\n",
      "160000/160000 [==============================] - 25s 159us/sample - loss: 0.0047\n",
      "Epoch 11/25\n",
      "160000/160000 [==============================] - 23s 146us/sample - loss: 0.0046\n",
      "Epoch 12/25\n",
      "160000/160000 [==============================] - 23s 143us/sample - loss: 0.0045\n"
     ]
    }
   ],
   "source": [
    "############################################\n",
    "# Training\n",
    "############################################\n",
    "\n",
    "logger.log_time('Starting training...').write_to_file()\n",
    "history = model.fit(x_train, y_train, epochs=epochs, callbacks=callbacks, verbose=1)\n",
    "logger.log_time('Trainin complete!').write_to_file()"
   ]
  },
  {
   "cell_type": "code",
   "execution_count": 14,
   "metadata": {},
   "outputs": [],
   "source": [
    "############################################\n",
    "# Write Results\n",
    "############################################\n",
    "\n",
    "prefix = f'{config_value}'\n",
    "validation_aucs = np.array(history.history['val_auc'], dtype=str)\n",
    "write_results(validation_auc_outputs, f'{prefix},{\",\".join(validation_aucs)}')\n",
    "train_aucs = np.array(history.history['train_auc'], dtype=str)\n",
    "write_results(train_auc_outputs, f'{prefix},{\",\".join(train_aucs)}')\n",
    "\n",
    "\n",
    "minority_size = (y_train == 1).sum() / len(y_train) * 100\n",
    "threshold = minority_size / 100\n",
    "\n",
    "y_prob = model.predict(x_test)\n",
    "write_dnn_perf_metrics(y_test, y_prob, threshold, config_value, 2, 64, final_results)\n",
    "\n",
    "# free some memory\n",
    "del history, x_test, y_test, x_train, y_train\n",
    "del model"
   ]
  },
  {
   "cell_type": "code",
   "execution_count": null,
   "metadata": {},
   "outputs": [],
   "source": []
  }
 ],
 "metadata": {
  "kernelspec": {
   "display_name": "Python 3",
   "language": "python",
   "name": "python3"
  },
  "language_info": {
   "codemirror_mode": {
    "name": "ipython",
    "version": 3
   },
   "file_extension": ".py",
   "mimetype": "text/x-python",
   "name": "python",
   "nbconvert_exporter": "python",
   "pygments_lexer": "ipython3",
   "version": "3.6.9"
  }
 },
 "nbformat": 4,
 "nbformat_minor": 4
}
