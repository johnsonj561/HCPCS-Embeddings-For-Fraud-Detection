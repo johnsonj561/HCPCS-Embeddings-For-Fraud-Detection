{
 "cells": [
  {
   "cell_type": "code",
   "execution_count": 7,
   "metadata": {},
   "outputs": [],
   "source": [
    "import pandas as pd\n",
    "import numpy as np\n",
    "import math\n",
    "from scipy.sparse import save_npz, load_npz\n",
    "from sklearn.preprocessing import MaxAbsScaler\n",
    "from sklearn.model_selection import train_test_split\n",
    "import os\n",
    "import sys\n",
    "\n",
    "proj_dir = os.environ['CMS_ROOT']\n",
    "sys.path.append(proj_dir)\n",
    "from utils import load_data, get_minority_size, df_to_csr\n",
    "\n",
    "pd.set_option('display.max_columns', 500)"
   ]
  },
  {
   "cell_type": "code",
   "execution_count": 2,
   "metadata": {},
   "outputs": [],
   "source": [
    "write_sample = False\n",
    "sample_filename = '2012-2015-subset.csv.gz'"
   ]
  },
  {
   "cell_type": "markdown",
   "metadata": {},
   "source": [
    "## Load Data"
   ]
  },
  {
   "cell_type": "code",
   "execution_count": 3,
   "metadata": {},
   "outputs": [
    {
     "name": "stdout",
     "output_type": "stream",
     "text": [
      "Minority class size: 0.08476 %\n"
     ]
    }
   ],
   "source": [
    "sample_size = 5000000\n",
    "sample = load_data(sample_size)\n",
    "print(f'Minority class size: {get_minority_size(sample)} %')\n",
    "\n",
    "if write_sample:\n",
    "  sample.to_csv(os.path.join(proj_dir, 'data', sample_filename), compression='gzip', index=False)"
   ]
  },
  {
   "cell_type": "code",
   "execution_count": 4,
   "metadata": {},
   "outputs": [
    {
     "data": {
      "text/html": [
       "<div>\n",
       "<style scoped>\n",
       "    .dataframe tbody tr th:only-of-type {\n",
       "        vertical-align: middle;\n",
       "    }\n",
       "\n",
       "    .dataframe tbody tr th {\n",
       "        vertical-align: top;\n",
       "    }\n",
       "\n",
       "    .dataframe thead th {\n",
       "        text-align: right;\n",
       "    }\n",
       "</style>\n",
       "<table border=\"1\" class=\"dataframe\">\n",
       "  <thead>\n",
       "    <tr style=\"text-align: right;\">\n",
       "      <th></th>\n",
       "      <th>index</th>\n",
       "      <th>npi</th>\n",
       "      <th>provider_type</th>\n",
       "      <th>nppes_provider_state</th>\n",
       "      <th>nppes_provider_gender</th>\n",
       "      <th>hcpcs_code</th>\n",
       "      <th>line_srvc_cnt</th>\n",
       "      <th>bene_unique_cnt</th>\n",
       "      <th>bene_day_srvc_cnt</th>\n",
       "      <th>average_submitted_chrg_amt</th>\n",
       "      <th>average_medicare_payment_amt</th>\n",
       "      <th>year</th>\n",
       "      <th>exclusion</th>\n",
       "    </tr>\n",
       "  </thead>\n",
       "  <tbody>\n",
       "    <tr>\n",
       "      <th>0</th>\n",
       "      <td>28637487</td>\n",
       "      <td>1760642011</td>\n",
       "      <td>Diagnostic Radiology</td>\n",
       "      <td>RI</td>\n",
       "      <td>M</td>\n",
       "      <td>74176</td>\n",
       "      <td>100.0</td>\n",
       "      <td>97</td>\n",
       "      <td>100</td>\n",
       "      <td>271.0</td>\n",
       "      <td>70.838300</td>\n",
       "      <td>2015</td>\n",
       "      <td>0</td>\n",
       "    </tr>\n",
       "    <tr>\n",
       "      <th>1</th>\n",
       "      <td>7149344</td>\n",
       "      <td>1194722108</td>\n",
       "      <td>Nephrology</td>\n",
       "      <td>IL</td>\n",
       "      <td>F</td>\n",
       "      <td>90960</td>\n",
       "      <td>473.0</td>\n",
       "      <td>62</td>\n",
       "      <td>473</td>\n",
       "      <td>648.0</td>\n",
       "      <td>237.272093</td>\n",
       "      <td>2014</td>\n",
       "      <td>0</td>\n",
       "    </tr>\n",
       "    <tr>\n",
       "      <th>2</th>\n",
       "      <td>34589983</td>\n",
       "      <td>1922253566</td>\n",
       "      <td>Physical Therapist</td>\n",
       "      <td>NY</td>\n",
       "      <td>F</td>\n",
       "      <td>97140</td>\n",
       "      <td>939.0</td>\n",
       "      <td>75</td>\n",
       "      <td>939</td>\n",
       "      <td>31.1</td>\n",
       "      <td>18.531182</td>\n",
       "      <td>2014</td>\n",
       "      <td>0</td>\n",
       "    </tr>\n",
       "    <tr>\n",
       "      <th>3</th>\n",
       "      <td>3375954</td>\n",
       "      <td>1093703605</td>\n",
       "      <td>Gastroenterology</td>\n",
       "      <td>AZ</td>\n",
       "      <td>M</td>\n",
       "      <td>99213</td>\n",
       "      <td>91.0</td>\n",
       "      <td>67</td>\n",
       "      <td>91</td>\n",
       "      <td>163.0</td>\n",
       "      <td>46.747033</td>\n",
       "      <td>2015</td>\n",
       "      <td>0</td>\n",
       "    </tr>\n",
       "    <tr>\n",
       "      <th>4</th>\n",
       "      <td>2960235</td>\n",
       "      <td>1073829990</td>\n",
       "      <td>Nephrology</td>\n",
       "      <td>IL</td>\n",
       "      <td>M</td>\n",
       "      <td>90962</td>\n",
       "      <td>19.0</td>\n",
       "      <td>14</td>\n",
       "      <td>19</td>\n",
       "      <td>430.0</td>\n",
       "      <td>155.370000</td>\n",
       "      <td>2013</td>\n",
       "      <td>0</td>\n",
       "    </tr>\n",
       "  </tbody>\n",
       "</table>\n",
       "</div>"
      ],
      "text/plain": [
       "      index         npi         provider_type nppes_provider_state  \\\n",
       "0  28637487  1760642011  Diagnostic Radiology                   RI   \n",
       "1   7149344  1194722108            Nephrology                   IL   \n",
       "2  34589983  1922253566    Physical Therapist                   NY   \n",
       "3   3375954  1093703605      Gastroenterology                   AZ   \n",
       "4   2960235  1073829990            Nephrology                   IL   \n",
       "\n",
       "  nppes_provider_gender hcpcs_code  line_srvc_cnt  bene_unique_cnt  \\\n",
       "0                     M      74176          100.0               97   \n",
       "1                     F      90960          473.0               62   \n",
       "2                     F      97140          939.0               75   \n",
       "3                     M      99213           91.0               67   \n",
       "4                     M      90962           19.0               14   \n",
       "\n",
       "   bene_day_srvc_cnt  average_submitted_chrg_amt  \\\n",
       "0                100                       271.0   \n",
       "1                473                       648.0   \n",
       "2                939                        31.1   \n",
       "3                 91                       163.0   \n",
       "4                 19                       430.0   \n",
       "\n",
       "   average_medicare_payment_amt  year  exclusion  \n",
       "0                     70.838300  2015          0  \n",
       "1                    237.272093  2014          0  \n",
       "2                     18.531182  2014          0  \n",
       "3                     46.747033  2015          0  \n",
       "4                    155.370000  2013          0  "
      ]
     },
     "execution_count": 4,
     "metadata": {},
     "output_type": "execute_result"
    }
   ],
   "source": [
    "sample.head()"
   ]
  },
  {
   "cell_type": "markdown",
   "metadata": {},
   "source": [
    "## Separate Class Labels and Drop Columns Not Needed"
   ]
  },
  {
   "cell_type": "code",
   "execution_count": 5,
   "metadata": {},
   "outputs": [],
   "source": [
    "y = sample['exclusion']\n",
    "sample = sample.drop(columns=['index', 'npi', 'year', 'exclusion'])"
   ]
  },
  {
   "cell_type": "markdown",
   "metadata": {},
   "source": [
    "## Create Train/Test Indices\n",
    "\n",
    "We want to use the same indices for all data sets so that we can compare results."
   ]
  },
  {
   "cell_type": "code",
   "execution_count": 6,
   "metadata": {},
   "outputs": [
    {
     "data": {
      "text/plain": [
       "((4000000,), (1000000,))"
      ]
     },
     "execution_count": 6,
     "metadata": {},
     "output_type": "execute_result"
    }
   ],
   "source": [
    "train_ind, test_ind = train_test_split(np.arange(0, sample.shape[0], 1), test_size=0.2, random_state=42)\n",
    "train_ind.shape, test_ind.shape"
   ]
  },
  {
   "cell_type": "markdown",
   "metadata": {},
   "source": [
    "## Create One-Hot HCPCS Data Set"
   ]
  },
  {
   "cell_type": "code",
   "execution_count": null,
   "metadata": {},
   "outputs": [],
   "source": [
    "%%time\n",
    "\n",
    "one_hot_hcpcs = pd.get_dummies(sample, sparse=True)\n",
    "\n",
    "# convert to sparse matrix\n",
    "one_hot_hcpcs = df_to_csr(one_hot_hcpcs)\n",
    "\n",
    "# create train test splits\n",
    "train_x = one_hot_hcpcs[train_ind]\n",
    "test_x = one_hot_hcpcs[test_ind]\n",
    "train_y = y[train_ind]\n",
    "test_y = y[test_ind]\n",
    "\n",
    "# normalize\n",
    "scaler = MaxAbsScaler()\n",
    "train_x = scaler.fit_transform(train_x)\n",
    "test_x = scaler.transform(test_x)\n",
    "\n",
    "# save results\n",
    "np.save(os.path.join(proj_dir, 'data', 'y-train.npy'), train_y)\n",
    "np.save(os.path.join(proj_dir, 'data', 'y-test.npy'), test_y)\n",
    "\n",
    "save_npz(os.path.join(proj_dir, 'data', 'x-train-onehot-hcpcs.npz'), train_x)\n",
    "save_npz(os.path.join(proj_dir, 'data', 'x-test-onehot-hcpcs.npz'), test_x)"
   ]
  },
  {
   "cell_type": "markdown",
   "metadata": {},
   "source": [
    "## Create No-HCPCS Data Set\n",
    "\n",
    "We won't save the targets again, they are the same across all data sets."
   ]
  },
  {
   "cell_type": "code",
   "execution_count": null,
   "metadata": {},
   "outputs": [],
   "source": [
    "%%time\n",
    "\n",
    "no_hcpcs = pd.get_dummies(sample.drop(columns=['hcpcs_code']), sparse=True)\n",
    "\n",
    "# convert to sparse matrix\n",
    "no_hcpcs = df_to_csr(no_hcpcs)\n",
    "\n",
    "# create train test splits\n",
    "train_x = no_hcpcs[train_ind]\n",
    "test_x = no_hcpcs[test_ind]\n",
    "\n",
    "# normalize\n",
    "scaler = MaxAbsScaler()\n",
    "train_x = scaler.fit_transform(train_x)\n",
    "test_x = scaler.transform(test_x)\n",
    "\n",
    "# save results\n",
    "save_npz(os.path.join(proj_dir, 'data', 'x-train-no-hcpcs.npz'), train_x)\n",
    "save_npz(os.path.join(proj_dir, 'data', 'x-test-no-hcpcs.npz'), test_x)"
   ]
  },
  {
   "cell_type": "markdown",
   "metadata": {},
   "source": [
    "## Classify with XGBoost Learner"
   ]
  },
  {
   "cell_type": "code",
   "execution_count": null,
   "metadata": {},
   "outputs": [],
   "source": [
    "from xgboost import XGBClassifier\n",
    "from sklearn.metrics import roc_auc_score"
   ]
  },
  {
   "cell_type": "code",
   "execution_count": null,
   "metadata": {},
   "outputs": [],
   "source": [
    "train_x = load_npz(os.path.join(proj_dir, 'data', 'x-train-onehot-hcpcs.npz'))\n",
    "test_x = load_npz(os.path.join(proj_dir, 'data', 'x-test-onehot-hcpcs.npz'))\n",
    "\n",
    "train_y = np.load(os.path.join(proj_dir, 'data', 'y-train.npy'))\n",
    "test_y = np.load(os.path.join(proj_dir, 'data', 'y-test.npy'))"
   ]
  },
  {
   "cell_type": "code",
   "execution_count": null,
   "metadata": {},
   "outputs": [],
   "source": [
    "%%time\n",
    "\n",
    "xgb = XGBClassifier(max_depth=8, n_jobs=-1)\n",
    "\n",
    "xgb.fit(train_x, train_y)"
   ]
  },
  {
   "cell_type": "code",
   "execution_count": null,
   "metadata": {},
   "outputs": [],
   "source": [
    "train_probs = xgb.predict_proba(train_x)[:, 1]\n",
    "test_probs = xgb.predict_proba(test_x)[:, 1]\n",
    "\n",
    "print(f'Train AUC: {roc_auc_score(train_y, train_probs)}')\n",
    "print(f'TEST AUC: {roc_auc_score(test_y, test_probs)}')"
   ]
  },
  {
   "cell_type": "markdown",
   "metadata": {},
   "source": [
    "## Classify with GBT Learner"
   ]
  },
  {
   "cell_type": "code",
   "execution_count": null,
   "metadata": {},
   "outputs": [],
   "source": [
    "gbt = GradientBoostingClassifier(max_depth=8, loss='exponential')"
   ]
  },
  {
   "cell_type": "code",
   "execution_count": null,
   "metadata": {},
   "outputs": [],
   "source": [
    "%%time\n",
    "\n",
    "gbt.fit(train_x, train_y)"
   ]
  },
  {
   "cell_type": "code",
   "execution_count": null,
   "metadata": {},
   "outputs": [],
   "source": [
    "train_probs = gbt.predict_proba(train_x)[:, 1]\n",
    "test_probs = gbt.predict_proba(test_x)[:, 1]"
   ]
  },
  {
   "cell_type": "code",
   "execution_count": null,
   "metadata": {},
   "outputs": [],
   "source": [
    "print(f'Train AUC: {roc_auc_score(train_y, train_probs)}')\n",
    "print(f'TEST AUC: {roc_auc_score(test_y, test_probs)}')"
   ]
  },
  {
   "cell_type": "code",
   "execution_count": null,
   "metadata": {},
   "outputs": [],
   "source": []
  }
 ],
 "metadata": {
  "kernelspec": {
   "display_name": "Python 3",
   "language": "python",
   "name": "python3"
  },
  "language_info": {
   "codemirror_mode": {
    "name": "ipython",
    "version": 3
   },
   "file_extension": ".py",
   "mimetype": "text/x-python",
   "name": "python",
   "nbconvert_exporter": "python",
   "pygments_lexer": "ipython3",
   "version": "3.6.9"
  }
 },
 "nbformat": 4,
 "nbformat_minor": 4
}
