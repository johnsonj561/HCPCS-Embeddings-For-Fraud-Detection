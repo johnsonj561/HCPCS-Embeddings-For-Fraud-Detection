{
 "cells": [
  {
   "cell_type": "code",
   "execution_count": 20,
   "metadata": {},
   "outputs": [],
   "source": [
    "import pandas as pd\n",
    "import numpy as np\n",
    "import math"
   ]
  },
  {
   "cell_type": "code",
   "execution_count": 38,
   "metadata": {},
   "outputs": [
    {
     "name": "stderr",
     "output_type": "stream",
     "text": [
      "/Users/jujohnson/anaconda3/envs/tf.latest/lib/python3.6/site-packages/IPython/core/interactiveshell.py:3058: DtypeWarning: Columns (10) have mixed types. Specify dtype option on import or set low_memory=False.\n",
      "  interactivity=interactivity, compiler=compiler, result=result)\n"
     ]
    }
   ],
   "source": [
    "path = '/Users/jujohnson/cms-data/raw/Medicare_PUF_PartB_2012to2017.csv.gz'\n",
    "df = pd.read_csv(path)"
   ]
  },
  {
   "cell_type": "code",
   "execution_count": 39,
   "metadata": {},
   "outputs": [],
   "source": [
    "from sklearn.model_selection import KFold\n",
    "\n",
    "def KFoldOnNPI(df, n_splits=3, shuffle=True):\n",
    "  npis = df['npi'].unique()\n",
    "  kf = KFold(n_splits=n_splits, shuffle=shuffle)\n",
    "  for train_npis, test_npis in kf.split(npis):\n",
    "    train_df = df.loc[df['npi'].isin(npis[train_npis])]\n",
    "    test_df = df.loc[df['npi'].isin(npis[test_npis])]\n",
    "    yield train_df, test_df"
   ]
  },
  {
   "cell_type": "code",
   "execution_count": 42,
   "metadata": {},
   "outputs": [
    {
     "name": "stdout",
     "output_type": "stream",
     "text": [
      "Train minority size: 0.047640245854908114\n",
      "Train exclusion count 854\n",
      "Test exclusion count 132\n",
      "Test minority size: 0.014634097669298218\n",
      "\n",
      "\n",
      "Train minority size: 0.03580121556576533\n",
      "Train exclusion count 641\n",
      "Test exclusion count 345\n",
      "Test minority size: 0.03815683676505232\n",
      "\n",
      "\n",
      "Train minority size: 0.02640953267861315\n",
      "Train exclusion count 477\n",
      "Test exclusion count 509\n",
      "Test minority size: 0.0572914966587464\n",
      "\n",
      "\n"
     ]
    }
   ],
   "source": [
    "for trains, tests in kFoldNpis(df, 3):\n",
    "  train_exc_cnt = (trains['exclusion'] == 1).sum()\n",
    "  print(f'Train minority size: {train_exc_cnt / len(trains) * 100}')\n",
    "  print(f'Train exclusion count {train_exc_cnt}')\n",
    "  test_exc_cnt = (tests['exclusion'] == 1).sum()\n",
    "  print(f'Test exclusion count {test_exc_cnt}')\n",
    "  print(f'Test minority size: {test_exc_cnt / len(tests) * 100}')\n",
    "  print('\\n')"
   ]
  },
  {
   "cell_type": "code",
   "execution_count": null,
   "metadata": {},
   "outputs": [],
   "source": []
  },
  {
   "cell_type": "code",
   "execution_count": 43,
   "metadata": {},
   "outputs": [
    {
     "data": {
      "text/plain": [
       "18765"
      ]
     },
     "execution_count": 43,
     "metadata": {},
     "output_type": "execute_result"
    }
   ],
   "source": [
    "(df['exclusion'] == 1).sum()"
   ]
  },
  {
   "cell_type": "code",
   "execution_count": null,
   "metadata": {},
   "outputs": [],
   "source": []
  }
 ],
 "metadata": {
  "kernelspec": {
   "display_name": "Python 3",
   "language": "python",
   "name": "python3"
  },
  "language_info": {
   "codemirror_mode": {
    "name": "ipython",
    "version": 3
   },
   "file_extension": ".py",
   "mimetype": "text/x-python",
   "name": "python",
   "nbconvert_exporter": "python",
   "pygments_lexer": "ipython3",
   "version": "3.6.9"
  }
 },
 "nbformat": 4,
 "nbformat_minor": 4
}
