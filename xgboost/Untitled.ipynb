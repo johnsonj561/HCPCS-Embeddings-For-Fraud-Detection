{
 "cells": [
  {
   "cell_type": "code",
   "execution_count": 1,
   "metadata": {},
   "outputs": [],
   "source": [
    "from sklearn.model_selection import StratifiedKFold\n",
    "from xgboost import XGBClassifier\n",
    "import pandas as pd\n",
    "import sys\n",
    "import os\n",
    "\n",
    "proj_dir = os.environ['CMS_ROOT']\n",
    "sys.path.append(proj_dir)\n",
    "from utils.utils import args_to_dict, write_perf_metrics, Timer\n",
    "from utils.utils import get_best_threshold, get_imbalance_description\n",
    "from utils.data import load_data, get_sparse_onehot_data\n",
    "\n",
    "# parse arguments\n",
    "\n",
    "debug = True\n",
    "runs = 1\n",
    "embedding_type = 'sg'\n",
    "drop_columns = ''\n",
    "drop_columns = []\n",
    "n_jobs = 4"
   ]
  },
  {
   "cell_type": "code",
   "execution_count": 2,
   "metadata": {},
   "outputs": [
    {
     "name": "stdout",
     "output_type": "stream",
     "text": [
      "n_estimators: 5\n",
      "max_depth: 8\n"
     ]
    }
   ],
   "source": [
    "train_perf_filename = 'train-results.csv'\n",
    "test_perf_filename = 'test-results.csv'\n",
    "\n",
    "n_estimators = 5 if debug else 100\n",
    "max_depth = 8\n",
    "print(f'n_estimators: {n_estimators}')\n",
    "print(f'max_depth: {max_depth}')"
   ]
  },
  {
   "cell_type": "code",
   "execution_count": null,
   "metadata": {},
   "outputs": [],
   "source": [
    "data = load_data(1000)\n",
    "print(f'Loaded data with shape {data.shape}')"
   ]
  },
  {
   "cell_type": "code",
   "execution_count": null,
   "metadata": {},
   "outputs": [],
   "source": []
  },
  {
   "cell_type": "code",
   "execution_count": null,
   "metadata": {},
   "outputs": [],
   "source": []
  },
  {
   "cell_type": "code",
   "execution_count": null,
   "metadata": {},
   "outputs": [],
   "source": [
    "# drop columns and onehot encode data\n",
    "x, y = get_sparse_onehot_data(data, embedding_type, drop_columns)\n",
    "print(f'Encoded data shape: {x.shape}')\n",
    "\n",
    "# apply 5 fold stratified cross validation\n",
    "skf = StratifiedKFold(n_splits=5, shuffle=True)\n",
    "for fold, (train_index, test_index) in enumerate(skf.split(x, y)):\n",
    "    print(f'Starting fold {fold}')\n",
    "    train_x, test_x = x[train_index], x[test_index]\n",
    "    train_y, test_y = y[train_index], y[test_index]\n",
    "    minority_size = (train_y == 1).sum() / len(train_y) * 100\n",
    "    threshold = minority_size / 100\n",
    "    print(f'Train shape: {train_x.shape}')\n",
    "    print(f'Test shape: {test_x.shape}')\n",
    "    print(f'Minority size: {minority_size}')\n",
    "    print(f'Threshold: {threshold}')\n",
    "\n",
    "    timer.reset()\n",
    "    model = XGBClassifier(\n",
    "        n_jobs=n_jobs,\n",
    "        n_estimators=n_estimators,\n",
    "        max_depth=max_depth\n",
    "    )\n",
    "    model.fit(train_x, train_y)\n",
    "    elapsed = timer.lap()\n",
    "    print(f'Training completed in {elapsed}')\n",
    "\n",
    "    # print('Computing the best threshold using test data')\n",
    "    # delta = 0.0001\n",
    "    # threshold = round(get_best_threshold(\n",
    "    #     train_x, train_y, model, delta), 4)\n",
    "\n",
    "    train_y_prob = model.predict_proba(train_x)[:, 1]\n",
    "    test_y_prob = model.predict_proba(test_x)[:, 1]\n",
    "\n",
    "    extras = {\n",
    "        'elapsed': elapsed,\n",
    "        'minority_size': minority_size,\n",
    "        'embedding_type': embedding_type,\n",
    "        'dropped_columns': '|'.join(drop_columns),\n",
    "        'max_depth': max_depth,\n",
    "        'threshold': threshold,\n",
    "    }\n",
    "\n",
    "    write_perf_metrics(train_perf_filename, train_y,\n",
    "                       train_y_prob, threshold, extras)\n",
    "    write_perf_metrics(test_perf_filename, test_y,\n",
    "                       test_y_prob, threshold, extras)\n",
    "\n",
    "# free up memory\n",
    "\n",
    "print('Job complete')\n"
   ]
  }
 ],
 "metadata": {
  "kernelspec": {
   "display_name": "Python 3",
   "language": "python",
   "name": "python3"
  },
  "language_info": {
   "codemirror_mode": {
    "name": "ipython",
    "version": 3
   },
   "file_extension": ".py",
   "mimetype": "text/x-python",
   "name": "python",
   "nbconvert_exporter": "python",
   "pygments_lexer": "ipython3",
   "version": "3.7.7"
  }
 },
 "nbformat": 4,
 "nbformat_minor": 4
}
