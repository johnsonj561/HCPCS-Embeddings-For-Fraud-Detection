{
 "cells": [
  {
   "cell_type": "code",
   "execution_count": 22,
   "metadata": {},
   "outputs": [],
   "source": [
    "from sklearn.model_selection import ParameterGrid, train_test_split\n",
    "from sklearn.metrics import roc_auc_score\n",
    "from xgboost import XGBClassifier\n",
    "import pandas as pd\n",
    "import numpy as np\n",
    "import sys\n",
    "import os\n",
    "\n",
    "proj_dir = os.environ['CMS_ROOT']\n",
    "sys.path.append(proj_dir)\n",
    "from utils.utils import args_to_dict, write_perf_metrics, Timer\n",
    "from utils.utils import get_best_threshold, get_imbalance_description\n",
    "from utils.data import load_data, get_train_test, df_to_csr"
   ]
  },
  {
   "cell_type": "markdown",
   "metadata": {},
   "source": [
    "## Config"
   ]
  },
  {
   "cell_type": "code",
   "execution_count": 23,
   "metadata": {},
   "outputs": [
    {
     "name": "stdout",
     "output_type": "stream",
     "text": [
      "Using n_estimators: 100\n"
     ]
    }
   ],
   "source": [
    "debug = False\n",
    "runs = 1\n",
    "embedding_type = 'onehot'\n",
    "sample_size = 5000000\n",
    "n_jobs = 8\n",
    "max_depth = 8\n",
    "n_estimators = 5 if debug else 100\n",
    "\n",
    "print(f'Using n_estimators: {n_estimators}')"
   ]
  },
  {
   "cell_type": "markdown",
   "metadata": {},
   "source": [
    "## Load Data"
   ]
  },
  {
   "cell_type": "code",
   "execution_count": 24,
   "metadata": {},
   "outputs": [
    {
     "name": "stdout",
     "output_type": "stream",
     "text": [
      "Loaded data with shape (5000000, 13)\n",
      "with_hcpcs: True, with_categorical: False\n"
     ]
    }
   ],
   "source": [
    "data = load_data(sample_size)\n",
    "print(f'Loaded data with shape {data.shape}')\n",
    "\n",
    "# create train-test split\n",
    "with_hcpcs = embedding_type == 'onehot'\n",
    "with_categorical = embedding_type == 'categorical'\n",
    "\n",
    "print(f'with_hcpcs: {with_hcpcs}, with_categorical: {with_categorical}')"
   ]
  },
  {
   "cell_type": "markdown",
   "metadata": {},
   "source": [
    "## Train Test Split + One Hot Encoding"
   ]
  },
  {
   "cell_type": "code",
   "execution_count": 27,
   "metadata": {},
   "outputs": [
    {
     "data": {
      "text/plain": [
       "Index(['index', 'npi', 'provider_type', 'nppes_provider_state',\n",
       "       'nppes_provider_gender', 'hcpcs_code', 'line_srvc_cnt',\n",
       "       'bene_unique_cnt', 'bene_day_srvc_cnt', 'average_submitted_chrg_amt',\n",
       "       'average_medicare_payment_amt', 'year', 'exclusion'],\n",
       "      dtype='object')"
      ]
     },
     "execution_count": 27,
     "metadata": {},
     "output_type": "execute_result"
    }
   ],
   "source": [
    "data.columns"
   ]
  },
  {
   "cell_type": "code",
   "execution_count": 28,
   "metadata": {},
   "outputs": [
    {
     "name": "stderr",
     "output_type": "stream",
     "text": [
      "/Users/jujohnson/git/HCPCS-Embeddings-For-Fraud-Detection/utils/data.py:36: FutureWarning: DataFrame.to_sparse is deprecated and will be removed in a future version\n",
      "  df = df.to_sparse().to_coo().astype('float32')\n",
      "/Users/jujohnson/anaconda3/envs/tf.latest/lib/python3.6/site-packages/pandas/core/frame.py:3451: FutureWarning: SparseSeries is deprecated and will be removed in a future version.\n",
      "Use a Series with sparse values instead.\n",
      "\n",
      "    >>> series = pd.Series(pd.SparseArray(...))\n",
      "\n",
      "See http://pandas.pydata.org/pandas-docs/stable/user_guide/sparse.html#migrating for more.\n",
      "\n",
      "  return klass(values, index=self.index, name=items, fastpath=True)\n"
     ]
    },
    {
     "name": "stdout",
     "output_type": "stream",
     "text": [
      "Train shape (4000000, 159), Test shape (1000000, 159)\n",
      "Training class imbalance description:\n",
      "Negative Samples: 3996585\n",
      "Positive Samples: 3415\n",
      "Postive Class Ratio: 0.085375\n"
     ]
    }
   ],
   "source": [
    "y = data['exclusion']\n",
    "\n",
    "df = data.drop(columns=['index', 'npi', 'year', 'exclusion', 'hcpcs_code'])\n",
    "\n",
    "train_ind, test_ind = train_test_split(\n",
    "    np.arange(0, df.shape[0], 1), test_size=0.2, random_state=42)\n",
    "\n",
    "df = pd.get_dummies(df, sparse=True)\n",
    "# keep reference to the columns, will need these\n",
    "columns = df.columns\n",
    "df = df_to_csr(df)\n",
    "train_x = df[train_ind]\n",
    "test_x = df[test_ind]\n",
    "train_y = y[train_ind]\n",
    "test_y = y[test_ind]\n",
    "\n",
    "print(f'Train shape {train_x.shape}, Test shape {test_x.shape}')\n",
    "print(f'Training class imbalance description:\\n{get_imbalance_description(train_y)}')"
   ]
  },
  {
   "cell_type": "code",
   "execution_count": 31,
   "metadata": {},
   "outputs": [
    {
     "name": "stdout",
     "output_type": "stream",
     "text": [
      "CPU times: user 1h 1min 30s, sys: 19.9 s, total: 1h 1min 50s\n",
      "Wall time: 6min 5s\n"
     ]
    },
    {
     "data": {
      "text/plain": [
       "XGBClassifier(base_score=0.5, booster='gbtree', colsample_bylevel=1,\n",
       "              colsample_bynode=1, colsample_bytree=1,\n",
       "              feature_names=Index(['line_srvc_cnt', 'bene_unique_cnt', 'bene_day_srvc_cnt',\n",
       "       'average_submitted_chrg_amt', 'average_medicare_payment_amt',\n",
       "       'provider_type_Addiction Medicine', 'provider_type_All Other Suppliers',\n",
       "       'provider_type_Allergy/Immunology',\n",
       "       'provide...\n",
       "       'nppes_provider_state_XX', 'nppes_provider_state_ZZ',\n",
       "       'nppes_provider_gender_F', 'nppes_provider_gender_M'],\n",
       "      dtype='object', length=159),\n",
       "              gamma=0, learning_rate=0.1, max_delta_step=0, max_depth=8,\n",
       "              min_child_weight=1, missing=None, n_estimators=100, n_jobs=-1,\n",
       "              nthread=None, objective='binary:logistic', random_state=0,\n",
       "              reg_alpha=0, reg_lambda=1, scale_pos_weight=1, seed=None,\n",
       "              silent=None, subsample=1, verbosity=1)"
      ]
     },
     "execution_count": 31,
     "metadata": {},
     "output_type": "execute_result"
    }
   ],
   "source": [
    "%%time\n",
    "\n",
    "model = XGBClassifier(\n",
    "    n_jobs=-1,\n",
    "    n_estimators=n_estimators,\n",
    "    max_depth=max_depth,\n",
    "    feature_names=columns)\n",
    "model.fit(train_x, train_y)"
   ]
  },
  {
   "cell_type": "code",
   "execution_count": 32,
   "metadata": {},
   "outputs": [
    {
     "name": "stdout",
     "output_type": "stream",
     "text": [
      "Train AUC: 0.9058035750804094\n",
      "Test AUC: 0.8775809537175666\n"
     ]
    }
   ],
   "source": [
    "train_y_prob = model.predict_proba(train_x)[:, 1]\n",
    "test_y_prob = model.predict_proba(test_x)[:, 1]\n",
    "print(f'Train AUC: {roc_auc_score(train_y, train_y_prob)}')\n",
    "print(f'Test AUC: {roc_auc_score(test_y, test_y_prob)}')"
   ]
  },
  {
   "cell_type": "markdown",
   "metadata": {},
   "source": [
    "## Feature Importance"
   ]
  },
  {
   "cell_type": "code",
   "execution_count": 33,
   "metadata": {},
   "outputs": [],
   "source": [
    "feature_imp = pd.DataFrame(zip(columns, model.feature_importances_), columns=['feature', 'importance'])"
   ]
  },
  {
   "cell_type": "code",
   "execution_count": 34,
   "metadata": {},
   "outputs": [
    {
     "data": {
      "text/html": [
       "<div>\n",
       "<style scoped>\n",
       "    .dataframe tbody tr th:only-of-type {\n",
       "        vertical-align: middle;\n",
       "    }\n",
       "\n",
       "    .dataframe tbody tr th {\n",
       "        vertical-align: top;\n",
       "    }\n",
       "\n",
       "    .dataframe thead th {\n",
       "        text-align: right;\n",
       "    }\n",
       "</style>\n",
       "<table border=\"1\" class=\"dataframe\">\n",
       "  <thead>\n",
       "    <tr style=\"text-align: right;\">\n",
       "      <th></th>\n",
       "      <th>feature</th>\n",
       "      <th>importance</th>\n",
       "    </tr>\n",
       "  </thead>\n",
       "  <tbody>\n",
       "    <tr>\n",
       "      <th>26</th>\n",
       "      <td>provider_type_Diagnostic Radiology</td>\n",
       "      <td>0.054581</td>\n",
       "    </tr>\n",
       "    <tr>\n",
       "      <th>158</th>\n",
       "      <td>nppes_provider_gender_M</td>\n",
       "      <td>0.029554</td>\n",
       "    </tr>\n",
       "    <tr>\n",
       "      <th>63</th>\n",
       "      <td>provider_type_Orthopedic Surgery</td>\n",
       "      <td>0.027197</td>\n",
       "    </tr>\n",
       "    <tr>\n",
       "      <th>129</th>\n",
       "      <td>nppes_provider_state_NC</td>\n",
       "      <td>0.026922</td>\n",
       "    </tr>\n",
       "    <tr>\n",
       "      <th>12</th>\n",
       "      <td>provider_type_Audiologist (billing independently)</td>\n",
       "      <td>0.026037</td>\n",
       "    </tr>\n",
       "    <tr>\n",
       "      <th>116</th>\n",
       "      <td>nppes_provider_state_IN</td>\n",
       "      <td>0.022571</td>\n",
       "    </tr>\n",
       "    <tr>\n",
       "      <th>145</th>\n",
       "      <td>nppes_provider_state_TN</td>\n",
       "      <td>0.022203</td>\n",
       "    </tr>\n",
       "    <tr>\n",
       "      <th>151</th>\n",
       "      <td>nppes_provider_state_WA</td>\n",
       "      <td>0.021698</td>\n",
       "    </tr>\n",
       "    <tr>\n",
       "      <th>67</th>\n",
       "      <td>provider_type_Pathology</td>\n",
       "      <td>0.021457</td>\n",
       "    </tr>\n",
       "    <tr>\n",
       "      <th>153</th>\n",
       "      <td>nppes_provider_state_WV</td>\n",
       "      <td>0.021274</td>\n",
       "    </tr>\n",
       "    <tr>\n",
       "      <th>73</th>\n",
       "      <td>provider_type_Physician Assistant</td>\n",
       "      <td>0.021139</td>\n",
       "    </tr>\n",
       "    <tr>\n",
       "      <th>52</th>\n",
       "      <td>provider_type_Nephrology</td>\n",
       "      <td>0.020523</td>\n",
       "    </tr>\n",
       "    <tr>\n",
       "      <th>120</th>\n",
       "      <td>nppes_provider_state_MA</td>\n",
       "      <td>0.019703</td>\n",
       "    </tr>\n",
       "    <tr>\n",
       "      <th>123</th>\n",
       "      <td>nppes_provider_state_MI</td>\n",
       "      <td>0.018113</td>\n",
       "    </tr>\n",
       "    <tr>\n",
       "      <th>60</th>\n",
       "      <td>provider_type_Ophthalmology</td>\n",
       "      <td>0.017531</td>\n",
       "    </tr>\n",
       "    <tr>\n",
       "      <th>65</th>\n",
       "      <td>provider_type_Otolaryngology</td>\n",
       "      <td>0.017460</td>\n",
       "    </tr>\n",
       "    <tr>\n",
       "      <th>85</th>\n",
       "      <td>provider_type_Rheumatology</td>\n",
       "      <td>0.016597</td>\n",
       "    </tr>\n",
       "    <tr>\n",
       "      <th>44</th>\n",
       "      <td>provider_type_Interventional Pain Management</td>\n",
       "      <td>0.016182</td>\n",
       "    </tr>\n",
       "    <tr>\n",
       "      <th>118</th>\n",
       "      <td>nppes_provider_state_KY</td>\n",
       "      <td>0.015898</td>\n",
       "    </tr>\n",
       "    <tr>\n",
       "      <th>99</th>\n",
       "      <td>nppes_provider_state_AL</td>\n",
       "      <td>0.015589</td>\n",
       "    </tr>\n",
       "    <tr>\n",
       "      <th>57</th>\n",
       "      <td>provider_type_Nurse Practitioner</td>\n",
       "      <td>0.015405</td>\n",
       "    </tr>\n",
       "    <tr>\n",
       "      <th>139</th>\n",
       "      <td>nppes_provider_state_OR</td>\n",
       "      <td>0.015291</td>\n",
       "    </tr>\n",
       "    <tr>\n",
       "      <th>148</th>\n",
       "      <td>nppes_provider_state_VA</td>\n",
       "      <td>0.015164</td>\n",
       "    </tr>\n",
       "    <tr>\n",
       "      <th>124</th>\n",
       "      <td>nppes_provider_state_MN</td>\n",
       "      <td>0.015105</td>\n",
       "    </tr>\n",
       "    <tr>\n",
       "      <th>113</th>\n",
       "      <td>nppes_provider_state_IA</td>\n",
       "      <td>0.015026</td>\n",
       "    </tr>\n",
       "  </tbody>\n",
       "</table>\n",
       "</div>"
      ],
      "text/plain": [
       "                                               feature  importance\n",
       "26                  provider_type_Diagnostic Radiology    0.054581\n",
       "158                            nppes_provider_gender_M    0.029554\n",
       "63                    provider_type_Orthopedic Surgery    0.027197\n",
       "129                            nppes_provider_state_NC    0.026922\n",
       "12   provider_type_Audiologist (billing independently)    0.026037\n",
       "116                            nppes_provider_state_IN    0.022571\n",
       "145                            nppes_provider_state_TN    0.022203\n",
       "151                            nppes_provider_state_WA    0.021698\n",
       "67                             provider_type_Pathology    0.021457\n",
       "153                            nppes_provider_state_WV    0.021274\n",
       "73                   provider_type_Physician Assistant    0.021139\n",
       "52                            provider_type_Nephrology    0.020523\n",
       "120                            nppes_provider_state_MA    0.019703\n",
       "123                            nppes_provider_state_MI    0.018113\n",
       "60                         provider_type_Ophthalmology    0.017531\n",
       "65                        provider_type_Otolaryngology    0.017460\n",
       "85                          provider_type_Rheumatology    0.016597\n",
       "44        provider_type_Interventional Pain Management    0.016182\n",
       "118                            nppes_provider_state_KY    0.015898\n",
       "99                             nppes_provider_state_AL    0.015589\n",
       "57                    provider_type_Nurse Practitioner    0.015405\n",
       "139                            nppes_provider_state_OR    0.015291\n",
       "148                            nppes_provider_state_VA    0.015164\n",
       "124                            nppes_provider_state_MN    0.015105\n",
       "113                            nppes_provider_state_IA    0.015026"
      ]
     },
     "execution_count": 34,
     "metadata": {},
     "output_type": "execute_result"
    }
   ],
   "source": [
    "feature_imp.sort_values(by='importance', ascending=False).head(25)"
   ]
  },
  {
   "cell_type": "code",
   "execution_count": 35,
   "metadata": {},
   "outputs": [],
   "source": [
    "features = feature_imp['feature']"
   ]
  },
  {
   "cell_type": "code",
   "execution_count": 36,
   "metadata": {},
   "outputs": [],
   "source": [
    "mask = (features.str.contains('provider_type')) | (features.str.contains('hcpcs') | (features.str.contains('state')))"
   ]
  },
  {
   "cell_type": "code",
   "execution_count": 37,
   "metadata": {},
   "outputs": [
    {
     "data": {
      "text/html": [
       "<div>\n",
       "<style scoped>\n",
       "    .dataframe tbody tr th:only-of-type {\n",
       "        vertical-align: middle;\n",
       "    }\n",
       "\n",
       "    .dataframe tbody tr th {\n",
       "        vertical-align: top;\n",
       "    }\n",
       "\n",
       "    .dataframe thead th {\n",
       "        text-align: right;\n",
       "    }\n",
       "</style>\n",
       "<table border=\"1\" class=\"dataframe\">\n",
       "  <thead>\n",
       "    <tr style=\"text-align: right;\">\n",
       "      <th></th>\n",
       "      <th>feature</th>\n",
       "      <th>importance</th>\n",
       "    </tr>\n",
       "  </thead>\n",
       "  <tbody>\n",
       "    <tr>\n",
       "      <th>0</th>\n",
       "      <td>line_srvc_cnt</td>\n",
       "      <td>0.002872</td>\n",
       "    </tr>\n",
       "    <tr>\n",
       "      <th>1</th>\n",
       "      <td>bene_unique_cnt</td>\n",
       "      <td>0.002769</td>\n",
       "    </tr>\n",
       "    <tr>\n",
       "      <th>2</th>\n",
       "      <td>bene_day_srvc_cnt</td>\n",
       "      <td>0.002812</td>\n",
       "    </tr>\n",
       "    <tr>\n",
       "      <th>3</th>\n",
       "      <td>average_submitted_chrg_amt</td>\n",
       "      <td>0.003009</td>\n",
       "    </tr>\n",
       "    <tr>\n",
       "      <th>4</th>\n",
       "      <td>average_medicare_payment_amt</td>\n",
       "      <td>0.002375</td>\n",
       "    </tr>\n",
       "    <tr>\n",
       "      <th>157</th>\n",
       "      <td>nppes_provider_gender_F</td>\n",
       "      <td>0.002301</td>\n",
       "    </tr>\n",
       "    <tr>\n",
       "      <th>158</th>\n",
       "      <td>nppes_provider_gender_M</td>\n",
       "      <td>0.029554</td>\n",
       "    </tr>\n",
       "  </tbody>\n",
       "</table>\n",
       "</div>"
      ],
      "text/plain": [
       "                          feature  importance\n",
       "0                   line_srvc_cnt    0.002872\n",
       "1                 bene_unique_cnt    0.002769\n",
       "2               bene_day_srvc_cnt    0.002812\n",
       "3      average_submitted_chrg_amt    0.003009\n",
       "4    average_medicare_payment_amt    0.002375\n",
       "157       nppes_provider_gender_F    0.002301\n",
       "158       nppes_provider_gender_M    0.029554"
      ]
     },
     "execution_count": 37,
     "metadata": {},
     "output_type": "execute_result"
    }
   ],
   "source": [
    "feature_imp.loc[~mask]"
   ]
  },
  {
   "cell_type": "code",
   "execution_count": 12,
   "metadata": {},
   "outputs": [],
   "source": [
    "model.save_model('model.xgb')"
   ]
  },
  {
   "cell_type": "code",
   "execution_count": null,
   "metadata": {},
   "outputs": [],
   "source": []
  },
  {
   "cell_type": "code",
   "execution_count": 38,
   "metadata": {},
   "outputs": [],
   "source": [
    "cumm_importance = {\n",
    "  'state': 0,\n",
    "  'provider_type': 0,\n",
    "  'hcpcs': 0,\n",
    "  'gender': 0,\n",
    "  'line_srvc_cnt': 0,\n",
    "  'bene_unique_cnt': 0,\n",
    "  'bene_day_srvc_cnt': 0,\n",
    "  'average_submitted_chrg_amt': 0,\n",
    "  'average_medicare_payment_amt': 0,\n",
    "}"
   ]
  },
  {
   "cell_type": "code",
   "execution_count": 39,
   "metadata": {},
   "outputs": [],
   "source": [
    "for idx, row in feature_imp.iterrows():\n",
    "  feature, score = row['feature'], row['importance']\n",
    "  if 'provider_type' in feature:\n",
    "    cumm_importance['provider_type'] += score\n",
    "  elif 'state' in feature:\n",
    "    cumm_importance['state'] += score\n",
    "  elif 'hcpcs' in feature:\n",
    "    cumm_importance['hcpcs'] += score\n",
    "  elif 'gender' in feature:\n",
    "    cumm_importance['gender'] += score\n",
    "  else:\n",
    "    cumm_importance[feature] += score"
   ]
  },
  {
   "cell_type": "code",
   "execution_count": 40,
   "metadata": {},
   "outputs": [
    {
     "data": {
      "text/html": [
       "<div>\n",
       "<style scoped>\n",
       "    .dataframe tbody tr th:only-of-type {\n",
       "        vertical-align: middle;\n",
       "    }\n",
       "\n",
       "    .dataframe tbody tr th {\n",
       "        vertical-align: top;\n",
       "    }\n",
       "\n",
       "    .dataframe thead th {\n",
       "        text-align: right;\n",
       "    }\n",
       "</style>\n",
       "<table border=\"1\" class=\"dataframe\">\n",
       "  <thead>\n",
       "    <tr style=\"text-align: right;\">\n",
       "      <th></th>\n",
       "      <th>0</th>\n",
       "    </tr>\n",
       "  </thead>\n",
       "  <tbody>\n",
       "    <tr>\n",
       "      <th>provider_type</th>\n",
       "      <td>0.530613</td>\n",
       "    </tr>\n",
       "    <tr>\n",
       "      <th>state</th>\n",
       "      <td>0.423695</td>\n",
       "    </tr>\n",
       "    <tr>\n",
       "      <th>gender</th>\n",
       "      <td>0.031854</td>\n",
       "    </tr>\n",
       "    <tr>\n",
       "      <th>average_submitted_chrg_amt</th>\n",
       "      <td>0.003009</td>\n",
       "    </tr>\n",
       "    <tr>\n",
       "      <th>line_srvc_cnt</th>\n",
       "      <td>0.002872</td>\n",
       "    </tr>\n",
       "    <tr>\n",
       "      <th>bene_day_srvc_cnt</th>\n",
       "      <td>0.002812</td>\n",
       "    </tr>\n",
       "    <tr>\n",
       "      <th>bene_unique_cnt</th>\n",
       "      <td>0.002769</td>\n",
       "    </tr>\n",
       "    <tr>\n",
       "      <th>average_medicare_payment_amt</th>\n",
       "      <td>0.002375</td>\n",
       "    </tr>\n",
       "    <tr>\n",
       "      <th>hcpcs</th>\n",
       "      <td>0.000000</td>\n",
       "    </tr>\n",
       "  </tbody>\n",
       "</table>\n",
       "</div>"
      ],
      "text/plain": [
       "                                     0\n",
       "provider_type                 0.530613\n",
       "state                         0.423695\n",
       "gender                        0.031854\n",
       "average_submitted_chrg_amt    0.003009\n",
       "line_srvc_cnt                 0.002872\n",
       "bene_day_srvc_cnt             0.002812\n",
       "bene_unique_cnt               0.002769\n",
       "average_medicare_payment_amt  0.002375\n",
       "hcpcs                         0.000000"
      ]
     },
     "execution_count": 40,
     "metadata": {},
     "output_type": "execute_result"
    }
   ],
   "source": [
    "pd.DataFrame(cumm_importance.values(), index=cumm_importance.keys()).sort_values(by=0, ascending=False)"
   ]
  },
  {
   "cell_type": "code",
   "execution_count": 41,
   "metadata": {},
   "outputs": [],
   "source": [
    "import matplotlib.pyplot as plt\n",
    "import seaborn as sns\n",
    "plt.style.use(['ggplot', 'seaborn-poster'])"
   ]
  },
  {
   "cell_type": "code",
   "execution_count": 42,
   "metadata": {},
   "outputs": [
    {
     "data": {
      "text/plain": [
       "[Text(0, 0, 'state'),\n",
       " Text(0, 0, 'provider_type'),\n",
       " Text(0, 0, 'hcpcs'),\n",
       " Text(0, 0, 'gender'),\n",
       " Text(0, 0, 'line_srvc_cnt'),\n",
       " Text(0, 0, 'bene_unique_cnt'),\n",
       " Text(0, 0, 'bene_day_srvc_cnt'),\n",
       " Text(0, 0, 'average_submitted_chrg_amt'),\n",
       " Text(0, 0, 'average_medicare_payment_amt')]"
      ]
     },
     "execution_count": 42,
     "metadata": {},
     "output_type": "execute_result"
    },
    {
     "data": {
      "image/png": "[encoded data removed]",
      "text/plain": [
       "<Figure size 921.6x633.6 with 1 Axes>"
      ]
     },
     "metadata": {},
     "output_type": "display_data"
    }
   ],
   "source": [
    "chart = sns.barplot(x=list(cumm_importance.keys()), y=list(cumm_importance.values()))\n",
    "chart.set_xticklabels(chart.get_xticklabels(), rotation=45)"
   ]
  },
  {
   "cell_type": "code",
   "execution_count": 43,
   "metadata": {},
   "outputs": [],
   "source": [
    "chart.figure.savefig('feature-importance-without-hcpcs.png')"
   ]
  },
  {
   "cell_type": "code",
   "execution_count": null,
   "metadata": {},
   "outputs": [],
   "source": []
  }
 ],
 "metadata": {
  "kernelspec": {
   "display_name": "Python 3",
   "language": "python",
   "name": "python3"
  },
  "language_info": {
   "codemirror_mode": {
    "name": "ipython",
    "version": 3
   },
   "file_extension": ".py",
   "mimetype": "text/x-python",
   "name": "python",
   "nbconvert_exporter": "python",
   "pygments_lexer": "ipython3",
   "version": "3.6.9"
  }
 },
 "nbformat": 4,
 "nbformat_minor": 4
}
